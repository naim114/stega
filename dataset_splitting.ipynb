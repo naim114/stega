{
 "cells": [
  {
   "cell_type": "code",
   "execution_count": 6,
   "metadata": {},
   "outputs": [],
   "source": [
    "import os\n",
    "import shutil\n",
    "\n",
    "# Define the source and destination base paths\n",
    "source_base_path = 'unsplitted'\n",
    "destination_base_path = 'splitted'\n",
    "\n",
    "# Define the train, stego, and clean paths\n",
    "source_train_path = os.path.join(source_base_path, 'test')\n",
    "source_stego_path = os.path.join(source_train_path, 'stego')\n",
    "source_clean_path = os.path.join(source_train_path, 'clean')\n",
    "\n",
    "destination_train_path = os.path.join(destination_base_path, 'test')\n"
   ]
  },
  {
   "cell_type": "code",
   "execution_count": 7,
   "metadata": {},
   "outputs": [],
   "source": [
    "# Create new folders for each category in the destination train folder\n",
    "categories = ['html', 'ps', 'url', 'js', 'eth', 'clean']\n",
    "for category in categories:\n",
    "    os.makedirs(os.path.join(destination_train_path, category), exist_ok=True)\n"
   ]
  },
  {
   "cell_type": "code",
   "execution_count": 8,
   "metadata": {},
   "outputs": [],
   "source": [
    "# Move clean images to the clean folder in the destination\n",
    "for file_name in os.listdir(source_clean_path):\n",
    "    shutil.move(os.path.join(source_clean_path, file_name),\n",
    "                os.path.join(destination_train_path, 'clean', file_name))\n"
   ]
  },
  {
   "cell_type": "code",
   "execution_count": 9,
   "metadata": {},
   "outputs": [],
   "source": [
    "# Move stego images to their respective folders based on the file name pattern in the destination\n",
    "for file_name in os.listdir(source_stego_path):\n",
    "    if 'html' in file_name:\n",
    "        category = 'html'\n",
    "    elif 'ps' in file_name:\n",
    "        category = 'ps'\n",
    "    elif 'url' in file_name:\n",
    "        category = 'url'\n",
    "    elif 'js' in file_name:\n",
    "        category = 'js'\n",
    "    elif 'eth' in file_name:\n",
    "        category = 'eth'\n",
    "    else:\n",
    "        continue\n",
    "\n",
    "    shutil.move(os.path.join(source_stego_path, file_name),\n",
    "                os.path.join(destination_train_path, category, file_name))"
   ]
  },
  {
   "cell_type": "code",
   "execution_count": 10,
   "metadata": {},
   "outputs": [],
   "source": [
    "# Remove the now-empty source stego and clean folders if they still exist\n",
    "if os.path.exists(source_stego_path):\n",
    "    os.rmdir(source_stego_path)\n",
    "if os.path.exists(source_clean_path):\n",
    "    os.rmdir(source_clean_path)\n"
   ]
  }
 ],
 "metadata": {
  "kernelspec": {
   "display_name": "Python 3",
   "language": "python",
   "name": "python3"
  },
  "language_info": {
   "codemirror_mode": {
    "name": "ipython",
    "version": 3
   },
   "file_extension": ".py",
   "mimetype": "text/x-python",
   "name": "python",
   "nbconvert_exporter": "python",
   "pygments_lexer": "ipython3",
   "version": "3.9.0 (tags/v3.9.0:9cf6752, Oct  5 2020, 15:34:40) [MSC v.1927 64 bit (AMD64)]"
  },
  "orig_nbformat": 4,
  "vscode": {
   "interpreter": {
    "hash": "945fbdcbf75377c6b40b2fd4c0a7e48631628e5253ec4c9347869731de097d4c"
   }
  }
 },
 "nbformat": 4,
 "nbformat_minor": 2
}
